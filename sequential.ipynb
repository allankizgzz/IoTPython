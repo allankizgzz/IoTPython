{
  "cells": [
    {
      "cell_type": "code",
      "execution_count": 19,
      "metadata": {
        "id": "mREVkzGT6OlH"
      },
      "outputs": [],
      "source": [
        "# pip install --upgrade tensorflow\n",
        "# pip install --upgrade pandas\n",
        "# pip install --upgrade numpy\n",
        "# pip install --upgrade matplotlib\n",
        "# pip install --upgrade traitlets\n",
        "# pip install --upgrade sklearn"
      ]
    },
    {
      "cell_type": "code",
      "execution_count": 20,
      "metadata": {
        "id": "lHxWYmiU_HyG"
      },
      "outputs": [],
      "source": [
        "import pandas as pd\n",
        "import numpy as np\n",
        "import random\n",
        "import matplotlib.pyplot as plt\n",
        "from datetime import datetime\n",
        "from datetime import datetime\n",
        "from tensorflow.keras.models import Sequential\n",
        "from keras.utils import to_categorical\n",
        "from tensorflow.keras.optimizers import Adam\n",
        "from tensorflow.keras.layers import Dense, LeakyReLU\n",
        "from sklearn.preprocessing import OneHotEncoder\n",
        "from sklearn.model_selection import cross_val_score\n",
        "from sklearn import datasets\n",
        "from sklearn.neighbors import KNeighborsClassifier\n",
        "from sklearn.preprocessing import StandardScaler"
      ]
    },
    {
      "cell_type": "code",
      "execution_count": 21,
      "metadata": {
        "colab": {
          "base_uri": "https://localhost:8080/"
        },
        "id": "1NCvDcb-6UdH",
        "outputId": "fab1197c-08ec-4ff6-9144-a0c886c515a6"
      },
      "outputs": [],
      "source": [
        "# from google.colab import drive\n",
        "# drive.mount('/content/drive')"
      ]
    },
    {
      "attachments": {},
      "cell_type": "markdown",
      "metadata": {
        "id": "eUPQDwgG8y4q"
      },
      "source": [
        "## 預處理"
      ]
    },
    {
      "cell_type": "code",
      "execution_count": 22,
      "metadata": {
        "id": "FaPkNIAf_XcE"
      },
      "outputs": [],
      "source": [
        "data = pd.read_csv(\"C:/Users/USER/Desktop/Program/IoTPython/Train_Test_IoT_Garage_Door.csv\")\n",
        "#ts=date+time所以不需要\n",
        "data.pop(\"date\")\n",
        "data.pop(\"time\")\n",
        "#取代空格\n",
        "data = data.apply(lambda x: x.str.strip() if x.dtype == \"object\" else x)\n",
        "\"\"\"\n",
        "data[\"door_state\"] = [i.replace(\" \",\"\") for i in data['door_state']]\n",
        "data[\"sphone_signal\"] = [i.replace(\" \",\"\") for i in data['sphone_signal']]\"\"\"\n",
        "#labeling\n",
        "data['door_state'] = data['door_state'].map({\"closed\":0,\"open\":1})\n",
        "data['sphone_signal'] = data[\"sphone_signal\"].map({\"false\":0,\"true\":1,\"0\":0 ,\"1\":1})\n",
        "\n",
        "#ts正規化\n",
        "# 創建 StandardScaler 物件\n",
        "scaler = StandardScaler()\n",
        "data[\"ts\"]=scaler.fit_transform(data[\"ts\"].values.reshape(-1, 1))\n",
        "\n",
        "#對type進行one hot(因為type有多種類別)\n",
        "one_hot = pd.get_dummies(data[\"type\"],prefix=\"type\")\n",
        "data.pop(\"type\")\n",
        "data = data.join(one_hot)"
      ]
    },
    {
      "cell_type": "code",
      "execution_count": 23,
      "metadata": {
        "colab": {
          "base_uri": "https://localhost:8080/",
          "height": 363
        },
        "id": "h7xsFJMcAMzX",
        "outputId": "5e1bceba-e8a9-41dc-d38f-889d7d537d38"
      },
      "outputs": [
        {
          "data": {
            "text/html": [
              "<div>\n",
              "<style scoped>\n",
              "    .dataframe tbody tr th:only-of-type {\n",
              "        vertical-align: middle;\n",
              "    }\n",
              "\n",
              "    .dataframe tbody tr th {\n",
              "        vertical-align: top;\n",
              "    }\n",
              "\n",
              "    .dataframe thead th {\n",
              "        text-align: right;\n",
              "    }\n",
              "</style>\n",
              "<table border=\"1\" class=\"dataframe\">\n",
              "  <thead>\n",
              "    <tr style=\"text-align: right;\">\n",
              "      <th></th>\n",
              "      <th>ts</th>\n",
              "      <th>door_state</th>\n",
              "      <th>sphone_signal</th>\n",
              "      <th>label</th>\n",
              "      <th>type_backdoor</th>\n",
              "      <th>type_ddos</th>\n",
              "      <th>type_injection</th>\n",
              "      <th>type_normal</th>\n",
              "      <th>type_password</th>\n",
              "      <th>type_ransomware</th>\n",
              "      <th>type_scanning</th>\n",
              "      <th>type_xss</th>\n",
              "    </tr>\n",
              "  </thead>\n",
              "  <tbody>\n",
              "    <tr>\n",
              "      <th>0</th>\n",
              "      <td>1.096115</td>\n",
              "      <td>0</td>\n",
              "      <td>0</td>\n",
              "      <td>1</td>\n",
              "      <td>False</td>\n",
              "      <td>True</td>\n",
              "      <td>False</td>\n",
              "      <td>False</td>\n",
              "      <td>False</td>\n",
              "      <td>False</td>\n",
              "      <td>False</td>\n",
              "      <td>False</td>\n",
              "    </tr>\n",
              "    <tr>\n",
              "      <th>1</th>\n",
              "      <td>1.096120</td>\n",
              "      <td>0</td>\n",
              "      <td>0</td>\n",
              "      <td>1</td>\n",
              "      <td>False</td>\n",
              "      <td>True</td>\n",
              "      <td>False</td>\n",
              "      <td>False</td>\n",
              "      <td>False</td>\n",
              "      <td>False</td>\n",
              "      <td>False</td>\n",
              "      <td>False</td>\n",
              "    </tr>\n",
              "    <tr>\n",
              "      <th>2</th>\n",
              "      <td>1.096124</td>\n",
              "      <td>0</td>\n",
              "      <td>0</td>\n",
              "      <td>1</td>\n",
              "      <td>False</td>\n",
              "      <td>True</td>\n",
              "      <td>False</td>\n",
              "      <td>False</td>\n",
              "      <td>False</td>\n",
              "      <td>False</td>\n",
              "      <td>False</td>\n",
              "      <td>False</td>\n",
              "    </tr>\n",
              "    <tr>\n",
              "      <th>3</th>\n",
              "      <td>1.096129</td>\n",
              "      <td>0</td>\n",
              "      <td>0</td>\n",
              "      <td>1</td>\n",
              "      <td>False</td>\n",
              "      <td>True</td>\n",
              "      <td>False</td>\n",
              "      <td>False</td>\n",
              "      <td>False</td>\n",
              "      <td>False</td>\n",
              "      <td>False</td>\n",
              "      <td>False</td>\n",
              "    </tr>\n",
              "    <tr>\n",
              "      <th>4</th>\n",
              "      <td>1.096138</td>\n",
              "      <td>0</td>\n",
              "      <td>0</td>\n",
              "      <td>1</td>\n",
              "      <td>False</td>\n",
              "      <td>True</td>\n",
              "      <td>False</td>\n",
              "      <td>False</td>\n",
              "      <td>False</td>\n",
              "      <td>False</td>\n",
              "      <td>False</td>\n",
              "      <td>False</td>\n",
              "    </tr>\n",
              "    <tr>\n",
              "      <th>5</th>\n",
              "      <td>1.096142</td>\n",
              "      <td>0</td>\n",
              "      <td>0</td>\n",
              "      <td>1</td>\n",
              "      <td>False</td>\n",
              "      <td>True</td>\n",
              "      <td>False</td>\n",
              "      <td>False</td>\n",
              "      <td>False</td>\n",
              "      <td>False</td>\n",
              "      <td>False</td>\n",
              "      <td>False</td>\n",
              "    </tr>\n",
              "    <tr>\n",
              "      <th>6</th>\n",
              "      <td>1.096147</td>\n",
              "      <td>0</td>\n",
              "      <td>0</td>\n",
              "      <td>1</td>\n",
              "      <td>False</td>\n",
              "      <td>True</td>\n",
              "      <td>False</td>\n",
              "      <td>False</td>\n",
              "      <td>False</td>\n",
              "      <td>False</td>\n",
              "      <td>False</td>\n",
              "      <td>False</td>\n",
              "    </tr>\n",
              "    <tr>\n",
              "      <th>7</th>\n",
              "      <td>1.096152</td>\n",
              "      <td>1</td>\n",
              "      <td>1</td>\n",
              "      <td>1</td>\n",
              "      <td>False</td>\n",
              "      <td>True</td>\n",
              "      <td>False</td>\n",
              "      <td>False</td>\n",
              "      <td>False</td>\n",
              "      <td>False</td>\n",
              "      <td>False</td>\n",
              "      <td>False</td>\n",
              "    </tr>\n",
              "    <tr>\n",
              "      <th>8</th>\n",
              "      <td>1.096156</td>\n",
              "      <td>0</td>\n",
              "      <td>0</td>\n",
              "      <td>1</td>\n",
              "      <td>False</td>\n",
              "      <td>True</td>\n",
              "      <td>False</td>\n",
              "      <td>False</td>\n",
              "      <td>False</td>\n",
              "      <td>False</td>\n",
              "      <td>False</td>\n",
              "      <td>False</td>\n",
              "    </tr>\n",
              "    <tr>\n",
              "      <th>9</th>\n",
              "      <td>1.096161</td>\n",
              "      <td>0</td>\n",
              "      <td>0</td>\n",
              "      <td>1</td>\n",
              "      <td>False</td>\n",
              "      <td>True</td>\n",
              "      <td>False</td>\n",
              "      <td>False</td>\n",
              "      <td>False</td>\n",
              "      <td>False</td>\n",
              "      <td>False</td>\n",
              "      <td>False</td>\n",
              "    </tr>\n",
              "  </tbody>\n",
              "</table>\n",
              "</div>"
            ],
            "text/plain": [
              "         ts  door_state  sphone_signal  label  type_backdoor  type_ddos   \n",
              "0  1.096115           0              0      1          False       True  \\\n",
              "1  1.096120           0              0      1          False       True   \n",
              "2  1.096124           0              0      1          False       True   \n",
              "3  1.096129           0              0      1          False       True   \n",
              "4  1.096138           0              0      1          False       True   \n",
              "5  1.096142           0              0      1          False       True   \n",
              "6  1.096147           0              0      1          False       True   \n",
              "7  1.096152           1              1      1          False       True   \n",
              "8  1.096156           0              0      1          False       True   \n",
              "9  1.096161           0              0      1          False       True   \n",
              "\n",
              "   type_injection  type_normal  type_password  type_ransomware  type_scanning   \n",
              "0           False        False          False            False          False  \\\n",
              "1           False        False          False            False          False   \n",
              "2           False        False          False            False          False   \n",
              "3           False        False          False            False          False   \n",
              "4           False        False          False            False          False   \n",
              "5           False        False          False            False          False   \n",
              "6           False        False          False            False          False   \n",
              "7           False        False          False            False          False   \n",
              "8           False        False          False            False          False   \n",
              "9           False        False          False            False          False   \n",
              "\n",
              "   type_xss  \n",
              "0     False  \n",
              "1     False  \n",
              "2     False  \n",
              "3     False  \n",
              "4     False  \n",
              "5     False  \n",
              "6     False  \n",
              "7     False  \n",
              "8     False  \n",
              "9     False  "
            ]
          },
          "execution_count": 23,
          "metadata": {},
          "output_type": "execute_result"
        }
      ],
      "source": [
        "data.head(10)"
      ]
    },
    {
      "cell_type": "code",
      "execution_count": 24,
      "metadata": {
        "colab": {
          "base_uri": "https://localhost:8080/"
        },
        "id": "pFrAxJbpDmwB",
        "outputId": "c3d914fd-9799-4343-ab16-329a63554e7e"
      },
      "outputs": [
        {
          "name": "stdout",
          "output_type": "stream",
          "text": [
            "(59587, 8)\n",
            "(59587, 4)\n",
            "(59587, 4)\n",
            "(59587, 8)\n",
            "float64\n",
            "float64\n"
          ]
        }
      ],
      "source": [
        "#拿出資料90%當作訓練集\n",
        "par = np.random.rand(len(data)) < 0.9\n",
        "data_train = data[par]\n",
        "#剩下的當作test集\n",
        "data_test = data[~par]\n",
        "\n",
        "train_data = data.values\n",
        "test_data = data.values\n",
        "#前4列的資料進行訓練\n",
        "X_train = train_data[:,0:4]\n",
        "X_train=X_train.astype(float)\n",
        "#第5列之後為目標變量\n",
        "Y_train = train_data[:,4:]\n",
        "Y_train= Y_train.astype(float)\n",
        "#前4列為測試集\n",
        "X_test = test_data[:,0:4]\n",
        "X_test=X_test.astype(float)\n",
        "#第5列之後為訓練目標變量\n",
        "Y_test = test_data[:,4:]\n",
        "Y_test=Y_test.astype(float)\n",
        "\n",
        "print(Y_train.shape)\n",
        "print(X_train.shape)\n",
        "print(X_test.shape)\n",
        "print(Y_test.shape)\n",
        "\n",
        "print(Y_test.dtype)\n",
        "print(X_test.dtype)"
      ]
    },
    {
      "attachments": {},
      "cell_type": "markdown",
      "metadata": {
        "id": "HFLy-WFi8v8h"
      },
      "source": [
        "## 建置模型"
      ]
    },
    {
      "cell_type": "code",
      "execution_count": 29,
      "metadata": {
        "colab": {
          "base_uri": "https://localhost:8080/"
        },
        "id": "XznJ1OemEB3_",
        "outputId": "7d534e02-43af-4f29-c9de-7b1ccf068a77"
      },
      "outputs": [
        {
          "name": "stdout",
          "output_type": "stream",
          "text": [
            "Model: \"sequential_2\"\n",
            "_________________________________________________________________\n",
            " Layer (type)                Output Shape              Param #   \n",
            "=================================================================\n",
            " dense_6 (Dense)             (None, 32)                160       \n",
            "                                                                 \n",
            " dense_7 (Dense)             (None, 64)                2112      \n",
            "                                                                 \n",
            " dense_8 (Dense)             (None, 8)                 520       \n",
            "                                                                 \n",
            "=================================================================\n",
            "Total params: 2,792\n",
            "Trainable params: 2,792\n",
            "Non-trainable params: 0\n",
            "_________________________________________________________________\n",
            "Training ...\n",
            "Epoch 1/18\n",
            "269/269 [==============================] - 1s 2ms/step - loss: 1.0136 - accuracy: 0.6244 - val_loss: 0.0055 - val_accuracy: 1.0000\n",
            "Epoch 2/18\n",
            "269/269 [==============================] - 0s 1ms/step - loss: 0.7426 - accuracy: 0.7522 - val_loss: 0.0021 - val_accuracy: 1.0000\n",
            "Epoch 3/18\n",
            "269/269 [==============================] - 0s 1ms/step - loss: 0.5763 - accuracy: 0.8226 - val_loss: 0.0016 - val_accuracy: 1.0000\n",
            "Epoch 4/18\n",
            "269/269 [==============================] - 0s 1ms/step - loss: 0.4528 - accuracy: 0.8607 - val_loss: 7.8504e-04 - val_accuracy: 1.0000\n",
            "Epoch 5/18\n",
            "269/269 [==============================] - 0s 1ms/step - loss: 0.3700 - accuracy: 0.8972 - val_loss: 9.0693e-04 - val_accuracy: 1.0000\n",
            "Epoch 6/18\n",
            "269/269 [==============================] - 0s 1ms/step - loss: 0.3048 - accuracy: 0.9469 - val_loss: 4.1208e-04 - val_accuracy: 1.0000\n",
            "Epoch 7/18\n",
            "269/269 [==============================] - 0s 1ms/step - loss: 0.2492 - accuracy: 0.9670 - val_loss: 3.7227e-04 - val_accuracy: 1.0000\n",
            "Epoch 8/18\n",
            "269/269 [==============================] - 0s 1ms/step - loss: 0.2042 - accuracy: 0.9745 - val_loss: 2.6342e-04 - val_accuracy: 1.0000\n",
            "Epoch 9/18\n",
            "269/269 [==============================] - 0s 1ms/step - loss: 0.1668 - accuracy: 0.9773 - val_loss: 1.5769e-04 - val_accuracy: 1.0000\n",
            "Epoch 10/18\n",
            "269/269 [==============================] - 0s 1ms/step - loss: 0.1369 - accuracy: 0.9774 - val_loss: 1.1250e-04 - val_accuracy: 1.0000\n",
            "Epoch 11/18\n",
            "269/269 [==============================] - 0s 1ms/step - loss: 0.1115 - accuracy: 0.9827 - val_loss: 1.0270e-04 - val_accuracy: 1.0000\n",
            "Epoch 12/18\n",
            "269/269 [==============================] - 0s 1ms/step - loss: 0.0911 - accuracy: 0.9915 - val_loss: 5.9494e-05 - val_accuracy: 1.0000\n",
            "Epoch 13/18\n",
            "269/269 [==============================] - 0s 1ms/step - loss: 0.0745 - accuracy: 0.9987 - val_loss: 5.4342e-05 - val_accuracy: 1.0000\n",
            "Epoch 14/18\n",
            "269/269 [==============================] - 0s 1ms/step - loss: 0.0607 - accuracy: 0.9990 - val_loss: 3.9605e-05 - val_accuracy: 1.0000\n",
            "Epoch 15/18\n",
            "269/269 [==============================] - 0s 1ms/step - loss: 0.0496 - accuracy: 0.9990 - val_loss: 2.7556e-05 - val_accuracy: 1.0000\n",
            "Epoch 16/18\n",
            "269/269 [==============================] - 0s 1ms/step - loss: 0.0408 - accuracy: 0.9990 - val_loss: 2.3176e-05 - val_accuracy: 1.0000\n",
            "Epoch 17/18\n",
            "269/269 [==============================] - 0s 1ms/step - loss: 0.0338 - accuracy: 0.9990 - val_loss: 2.1151e-05 - val_accuracy: 1.0000\n",
            "Epoch 18/18\n",
            "269/269 [==============================] - 0s 1ms/step - loss: 0.0281 - accuracy: 0.9990 - val_loss: 1.5443e-05 - val_accuracy: 1.0000\n"
          ]
        }
      ],
      "source": [
        "#自訂模型\n",
        "model = Sequential()\n",
        "#輸入層(4個input)\n",
        "model.add(Dense(32, input_dim=4, activation=\"ReLU\"))\n",
        "#隱藏層(ReLU函數)\n",
        "model.add(Dense(64, activation=\"ReLU\"))\n",
        "#輸出層(softmax函數)\n",
        "model.add(Dense(8, activation=\"softmax\"))\n",
        "#檢測模型狀態 \n",
        "model.summary()  \n",
        "# 編譯模型(利用adam優化器)\n",
        "model.compile(loss=\"categorical_crossentropy\", optimizer=\"Adam\",metrics=[\"accuracy\"])\n",
        "# 訓練模型\n",
        "print(\"Training ...\")\n",
        "history = model.fit(X_train, Y_train, validation_split=0.1, epochs=15, batch_size=200)"
      ]
    },
    {
      "attachments": {},
      "cell_type": "markdown",
      "metadata": {
        "id": "CnVnfLyH8695"
      },
      "source": [
        "## 顯示訓練成果(分數)"
      ]
    },
    {
      "cell_type": "code",
      "execution_count": 26,
      "metadata": {
        "colab": {
          "base_uri": "https://localhost:8080/",
          "height": 419
        },
        "id": "tAKC6NJwYtqE",
        "outputId": "abd7a4cd-aa19-424e-f522-a0f93520aa8c"
      },
      "outputs": [
        {
          "name": "stdout",
          "output_type": "stream",
          "text": [
            "1863/1863 [==============================] - 1s 709us/step - loss: 0.0103 - accuracy: 0.9991\n",
            "訓練資料集的準確度 = 1.00\n",
            "1863/1863 [==============================] - 1s 677us/step - loss: 0.0103 - accuracy: 0.9991\n",
            "測試資料集的準確度 = 1.00\n"
          ]
        }
      ],
      "source": [
        "loss, accuracy = model.evaluate(X_train, Y_train)\n",
        "print(\"訓練資料集的準確度 = {:.2f}\".format(accuracy))\n",
        "loss, accuracy = model.evaluate(X_test, Y_test)\n",
        "print(\"測試資料集的準確度 = {:.2f}\".format(accuracy))"
      ]
    },
    {
      "attachments": {},
      "cell_type": "markdown",
      "metadata": {
        "id": "SUH7Q5eH88xm"
      },
      "source": [
        "## 顯示訓練和驗證損失"
      ]
    },
    {
      "cell_type": "code",
      "execution_count": 27,
      "metadata": {
        "colab": {
          "base_uri": "https://localhost:8080/",
          "height": 946
        },
        "id": "CU5QpY-7ZBop",
        "outputId": "755b023c-7dae-4335-f586-91634ebe50ba"
      },
      "outputs": [
        {
          "data": {
            "image/png": "[encoded data removed]",
            "text/plain": [
              "<Figure size 640x480 with 1 Axes>"
            ]
          },
          "metadata": {},
          "output_type": "display_data"
        },
        {
          "data": {
            "image/png": "[encoded data removed]",
            "text/plain": [
              "<Figure size 640x480 with 1 Axes>"
            ]
          },
          "metadata": {},
          "output_type": "display_data"
        },
        {
          "data": {
            "text/plain": [
              "\"\\nplt.plot(history.history['accuracy'])\\nplt.plot(history.history['val_accuracy'])\\nplt.title('model accuracy')\\nplt.ylabel('accuracy')\\nplt.xlabel('epoch')\\nplt.legend(['train', 'val'], loc='upper left')\\nplt.show() \""
            ]
          },
          "execution_count": 27,
          "metadata": {},
          "output_type": "execute_result"
        }
      ],
      "source": [
        "loss = history.history[\"loss\"]\n",
        "epochs = range(1, len(loss)+1)\n",
        "val_loss = history.history[\"val_loss\"]\n",
        "plt.plot(epochs, loss, \"b-\", label=\"Training Loss\")\n",
        "plt.plot(epochs, val_loss, \"r--\", label=\"Validation Loss\")\n",
        "plt.title(\"Training and Validation Loss\")\n",
        "plt.xlabel(\"Epochs\")\n",
        "plt.ylabel(\"Loss\")\n",
        "plt.legend()\n",
        "plt.show()\n",
        "\n",
        "acc = history.history[\"accuracy\"]\n",
        "epochs = range(1, len(acc)+1)\n",
        "val_acc = history.history[\"val_accuracy\"]\n",
        "plt.plot(epochs, acc, \"b-\", label=\"Training Acc\")\n",
        "plt.plot(epochs, val_acc, \"r--\", label=\"Validation Acc\")\n",
        "plt.title(\"Training and Validation Accuracy\")\n",
        "plt.xlabel(\"Epochs\")\n",
        "plt.ylabel(\"Accuracy\")\n",
        "plt.legend()\n",
        "plt.show()\n",
        "\n",
        "\"\"\"\n",
        "plt.plot(history.history['accuracy'])\n",
        "plt.plot(history.history['val_accuracy'])\n",
        "plt.title('model accuracy')\n",
        "plt.ylabel('accuracy')\n",
        "plt.xlabel('epoch')\n",
        "plt.legend(['train', 'val'], loc='upper left')\n",
        "plt.show() \"\"\"\n"
      ]
    },
    {
      "attachments": {},
      "cell_type": "markdown",
      "metadata": {},
      "source": [
        "## KFold驗證\n",
        "model type不能直接使用在cross_val_score()函式內 所以沒辦法跑"
      ]
    },
    {
      "cell_type": "code",
      "execution_count": null,
      "metadata": {
        "colab": {
          "base_uri": "https://localhost:8080/",
          "height": 247
        },
        "id": "m93xuQzpAcll",
        "outputId": "93235ad6-e73c-44ac-f220-b2593c36641a"
      },
      "outputs": [],
      "source": [
        "\n",
        "# accuracy = cross_val_score(model, X_test, Y_test, cv=10, scoring=\"accuracy\")\n",
        "# print(accuracy)\n",
        "# print(accuracy.mean()*100,'%')\n",
        "# # 可以從accuracy串列中，看到有些組是100%，有些組則是大概90%，也就是說如果我們剛好取的是第一組，\n",
        "# # 就會誤以為模型準確度(Accuracy)一定是100%，但實際上只是剛好取到這樣的資料組合"
      ]
    },
    {
      "attachments": {},
      "cell_type": "markdown",
      "metadata": {
        "id": "7HYOGEsE9Bm7"
      },
      "source": [
        "## 輸出混淆矩陣"
      ]
    },
    {
      "cell_type": "code",
      "execution_count": 30,
      "metadata": {
        "colab": {
          "base_uri": "https://localhost:8080/"
        },
        "id": "VW1pxz1G7AWU",
        "outputId": "0f37574e-baa2-45b1-d3ab-8805a50cd6ba"
      },
      "outputs": [
        {
          "name": "stdout",
          "output_type": "stream",
          "text": [
            "1863/1863 [==============================] - 1s 577us/step\n",
            "[[ 4945     0     0     0     0    55     0     0]\n",
            " [    0  5000     0     0     0     0     0     0]\n",
            " [    0     0  5000     0     0     0     0     0]\n",
            " [    0     0     0 35000     0     0     0     0]\n",
            " [    0     0     0     0  5000     0     0     0]\n",
            " [    0     0     0     0     0  2902     0     0]\n",
            " [    0     0     0     0     0     0   529     0]\n",
            " [    0     0     0     0     0     0     0  1156]]\n"
          ]
        }
      ],
      "source": [
        "predicted=model.predict(X_train)\n",
        "\n",
        "Y_pred = predicted\n",
        "\n",
        "Y_pred = np.argmax(Y_pred, axis=1).astype(int)\n",
        "Y_test_2 = np.argmax(Y_test, axis=1).astype(int)\n",
        "\n",
        "from sklearn.metrics import confusion_matrix\n",
        "from sklearn.metrics import multilabel_confusion_matrix\n",
        "\n",
        "#row=Y_test_2 col=Y_pred\n",
        "cm=confusion_matrix(Y_test_2,Y_pred)\n",
        "print(cm)"
      ]
    },
    {
      "attachments": {},
      "cell_type": "markdown",
      "metadata": {
        "id": "6GAzjLW59Dxo"
      },
      "source": [
        "## 繪製熱力圖"
      ]
    },
    {
      "cell_type": "code",
      "execution_count": null,
      "metadata": {
        "colab": {
          "base_uri": "https://localhost:8080/",
          "height": 710
        },
        "id": "kXdQbUPZ7IY5",
        "outputId": "630d1993-c9f5-4d0a-b4e1-16bfdc2f1e0f"
      },
      "outputs": [
        {
          "data": {
            "image/png": "[encoded data removed]",
            "text/plain": [
              "<Figure size 1500x800 with 1 Axes>"
            ]
          },
          "metadata": {},
          "output_type": "display_data"
        }
      ],
      "source": [
        "import seaborn as sns\n",
        "import matplotlib.pyplot as plt\n",
        "plt.figure(figsize=(15,8))\n",
        "sns.heatmap(cm,square=True,annot=True,fmt='d',linecolor='white',cmap='RdBu',linewidths=1.5,cbar=False)\n",
        "plt.xlabel('Pred',fontsize=20)\n",
        "plt.ylabel('True',fontsize=20)\n",
        "plt.show()"
      ]
    }
  ],
  "metadata": {
    "colab": {
      "provenance": []
    },
    "kernelspec": {
      "display_name": "Python 3",
      "name": "python3"
    },
    "language_info": {
      "codemirror_mode": {
        "name": "ipython",
        "version": 3
      },
      "file_extension": ".py",
      "mimetype": "text/x-python",
      "name": "python",
      "nbconvert_exporter": "python",
      "pygments_lexer": "ipython3",
      "version": "3.10.7"
    }
  },
  "nbformat": 4,
  "nbformat_minor": 0
}
