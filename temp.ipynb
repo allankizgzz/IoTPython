{
 "cells": [
  {
   "cell_type": "code",
   "execution_count": 10,
   "metadata": {},
   "outputs": [],
   "source": [
    "import pandas as pd\n",
    "import numpy as np\n",
    "import random\n",
    "import matplotlib.pyplot as plt\n",
    "from datetime import datetime\n",
    "from tensorflow.keras.models import Sequential\n",
    "from keras.utils import to_categorical\n",
    "from tensorflow.keras.optimizers import Adam\n",
    "from tensorflow.keras.layers import Dense, LeakyReLU\n",
    "from sklearn.preprocessing import OneHotEncoder\n",
    "from sklearn.model_selection import cross_val_score\n",
    "from sklearn import datasets\n",
    "from sklearn.neighbors import KNeighborsClassifier\n",
    "from sklearn.preprocessing import StandardScaler"
   ]
  },
  {
   "cell_type": "code",
   "execution_count": 11,
   "metadata": {},
   "outputs": [],
   "source": [
    "data = pd.read_csv(\"E:\\Python\\IOT\\Train_Test_IoT_Garage_Door.csv\")\n",
    "#ts=date+time所以不需要\n",
    "data.pop(\"date\")\n",
    "data.pop(\"time\")\n",
    "#取代空格\n",
    "data = data.apply(lambda x: x.str.strip() if x.dtype == \"object\" else x)\n",
    "\n",
    "#labeling\n",
    "data['door_state'] = data['door_state'].map({\"closed\":0,\"open\":1})\n",
    "data['sphone_signal'] = data[\"sphone_signal\"].map({\"false\":0,\"true\":1,\"0\":0 ,\"1\":1})\n",
    "\n",
    "#ts正規化\n",
    "# 創建 StandardScaler 物件\n",
    "scaler = StandardScaler()\n",
    "data[\"ts\"]=scaler.fit_transform(data[\"ts\"].values.reshape(-1, 1))\n",
    "\n",
    "#對type進行one hot(因為type有多種類別)\n",
    "onehotdata = pd.get_dummies(data[\"type\"],prefix=\"type\")\n",
    "data.pop(\"type\")\n",
    "data = data.join(onehotdata)"
   ]
  },
  {
   "cell_type": "code",
   "execution_count": 12,
   "metadata": {},
   "outputs": [],
   "source": [
    "data.to_csv('IoT_processed_data.csv', index=False)"
   ]
  }
 ],
 "metadata": {
  "kernelspec": {
   "display_name": "Python 3",
   "language": "python",
   "name": "python3"
  },
  "language_info": {
   "codemirror_mode": {
    "name": "ipython",
    "version": 3
   },
   "file_extension": ".py",
   "mimetype": "text/x-python",
   "name": "python",
   "nbconvert_exporter": "python",
   "pygments_lexer": "ipython3",
   "version": "3.10.7"
  },
  "orig_nbformat": 4
 },
 "nbformat": 4,
 "nbformat_minor": 2
}
