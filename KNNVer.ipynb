{
  "cells": [
    {
      "cell_type": "code",
      "execution_count": 1,
      "metadata": {
        "id": "SBrMt9eb1XB2"
      },
      "outputs": [],
      "source": [
        "import pandas as pd\n",
        "import numpy as np\n",
        "import random\n",
        "import matplotlib.pyplot as plt\n",
        "from datetime import datetime\n",
        "from sklearn import svm\n",
        "from sklearn.preprocessing import StandardScaler\n",
        "from sklearn.preprocessing import LabelEncoder,OneHotEncoder\n",
        "from sklearn.neighbors import KNeighborsClassifier\n",
        "from sklearn.model_selection import cross_val_score\n",
        "from sklearn.metrics import accuracy_score, precision_score, recall_score, f1_score, confusion_matrix\n",
        "from sklearn.utils import shuffle\n",
        "import sklearn.metrics as metrics\n"
      ]
    },
    {
      "cell_type": "code",
      "execution_count": null,
      "metadata": {
        "colab": {
          "base_uri": "https://localhost:8080/"
        },
        "id": "DI6SbVx62ATS",
        "outputId": "ded884b3-2a8e-4542-ce51-95e1f6923382"
      },
      "outputs": [
        {
          "name": "stdout",
          "output_type": "stream",
          "text": [
            "Drive already mounted at /content/drive; to attempt to forcibly remount, call drive.mount(\"/content/drive\", force_remount=True).\n"
          ]
        }
      ],
      "source": [
        "# from google.colab import drive\n",
        "# drive.mount('/content/drive')"
      ]
    },
    {
      "attachments": {},
      "cell_type": "markdown",
      "metadata": {
        "id": "kjyrMmmloUOR"
      },
      "source": [
        "## 預處理"
      ]
    },
    {
      "cell_type": "code",
      "execution_count": 6,
      "metadata": {
        "colab": {
          "base_uri": "https://localhost:8080/"
        },
        "id": "-gVIQR5n1XB7",
        "outputId": "33929e52-5d60-4afa-db0e-a761294c8ba4"
      },
      "outputs": [],
      "source": [
        "data = pd.read_csv(\"C:/Users/USER/Desktop/Program/IoTPython/Train_Test_IoT_Garage_Door.csv\")\n",
        "for i in range(10):\n",
        "    data = shuffle(data)\n",
        "#ts=date+time所以不需要\n",
        "data.pop(\"date\")\n",
        "data.pop(\"time\")\n",
        "#取代空格\n",
        "data = data.apply(lambda x: x.str.strip() if x.dtype == \"object\" else x)\n",
        "\"\"\"\n",
        "data[\"door_state\"] = [i.replace(\" \",\"\") for i in data['door_state']]\n",
        "data[\"sphone_signal\"] = [i.replace(\" \",\"\") for i in data['sphone_signal']]\"\"\"\n",
        "#labeling\n",
        "data['door_state'] = data['door_state'].map({\"closed\":0,\"open\":1})\n",
        "data['sphone_signal'] = data[\"sphone_signal\"].map({\"false\":0,\"true\":1,\"0\":0 ,\"1\":1})\n",
        "\n",
        "#ts正規化\n",
        "# 創建 StandardScaler 物件\n",
        "scaler = StandardScaler()\n",
        "data[\"ts\"]=scaler.fit_transform(data[\"ts\"].values.reshape(-1, 1))\n",
        "\n",
        "type_one_hot = pd.get_dummies(data[\"type\"],prefix=\"type\")\n",
        "data.pop(\"type\")\n",
        "data = data.join(type_one_hot)\n",
        "\n",
        "#拿出資料90%當作訓練集\n",
        "par = np.random.rand(len(data)) < 0.9\n",
        "data_train = data[par]\n",
        "#剩下的當作test集\n",
        "data_test = data[~par]\n",
        "\n",
        "train_data = data.values\n",
        "test_data = data.values\n",
        "#前4列的資料進行訓練\n",
        "X_train = train_data[:,0:4]\n",
        "X_train=X_train.astype(float)\n",
        "#第5列之後為目標變量\n",
        "Y_train = train_data[:,4:]\n",
        "Y_train= Y_train.astype(float)\n",
        "#前4列為測試集\n",
        "X_test = test_data[:,0:4]\n",
        "X_test=X_test.astype(float)\n",
        "#第5列之後為訓練目標變量\n",
        "Y_test = test_data[:,4:]\n",
        "Y_test=Y_test.astype(float)"
      ]
    },
    {
      "cell_type": "code",
      "execution_count": 8,
      "metadata": {
        "colab": {
          "base_uri": "https://localhost:8080/",
          "height": 427
        },
        "id": "I8ID5YC21XCB",
        "outputId": "5a37fb3d-15d0-4baf-f336-26b6a465d200"
      },
      "outputs": [
        {
          "data": {
            "text/html": [
              "<div>\n",
              "<style scoped>\n",
              "    .dataframe tbody tr th:only-of-type {\n",
              "        vertical-align: middle;\n",
              "    }\n",
              "\n",
              "    .dataframe tbody tr th {\n",
              "        vertical-align: top;\n",
              "    }\n",
              "\n",
              "    .dataframe thead th {\n",
              "        text-align: right;\n",
              "    }\n",
              "</style>\n",
              "<table border=\"1\" class=\"dataframe\">\n",
              "  <thead>\n",
              "    <tr style=\"text-align: right;\">\n",
              "      <th></th>\n",
              "      <th>ts</th>\n",
              "      <th>door_state</th>\n",
              "      <th>sphone_signal</th>\n",
              "      <th>label</th>\n",
              "      <th>type_backdoor</th>\n",
              "      <th>type_ddos</th>\n",
              "      <th>type_injection</th>\n",
              "      <th>type_normal</th>\n",
              "      <th>type_password</th>\n",
              "      <th>type_ransomware</th>\n",
              "      <th>type_scanning</th>\n",
              "      <th>type_xss</th>\n",
              "    </tr>\n",
              "  </thead>\n",
              "  <tbody>\n",
              "    <tr>\n",
              "      <th>763</th>\n",
              "      <td>1.098480</td>\n",
              "      <td>0</td>\n",
              "      <td>0</td>\n",
              "      <td>1</td>\n",
              "      <td>False</td>\n",
              "      <td>True</td>\n",
              "      <td>False</td>\n",
              "      <td>False</td>\n",
              "      <td>False</td>\n",
              "      <td>False</td>\n",
              "      <td>False</td>\n",
              "      <td>False</td>\n",
              "    </tr>\n",
              "    <tr>\n",
              "      <th>5161</th>\n",
              "      <td>1.360948</td>\n",
              "      <td>0</td>\n",
              "      <td>0</td>\n",
              "      <td>1</td>\n",
              "      <td>True</td>\n",
              "      <td>False</td>\n",
              "      <td>False</td>\n",
              "      <td>False</td>\n",
              "      <td>False</td>\n",
              "      <td>False</td>\n",
              "      <td>False</td>\n",
              "      <td>False</td>\n",
              "    </tr>\n",
              "    <tr>\n",
              "      <th>29541</th>\n",
              "      <td>1.222570</td>\n",
              "      <td>0</td>\n",
              "      <td>0</td>\n",
              "      <td>1</td>\n",
              "      <td>False</td>\n",
              "      <td>False</td>\n",
              "      <td>False</td>\n",
              "      <td>False</td>\n",
              "      <td>False</td>\n",
              "      <td>False</td>\n",
              "      <td>False</td>\n",
              "      <td>True</td>\n",
              "    </tr>\n",
              "    <tr>\n",
              "      <th>51619</th>\n",
              "      <td>-0.877601</td>\n",
              "      <td>0</td>\n",
              "      <td>0</td>\n",
              "      <td>0</td>\n",
              "      <td>False</td>\n",
              "      <td>False</td>\n",
              "      <td>False</td>\n",
              "      <td>True</td>\n",
              "      <td>False</td>\n",
              "      <td>False</td>\n",
              "      <td>False</td>\n",
              "      <td>False</td>\n",
              "    </tr>\n",
              "    <tr>\n",
              "      <th>43023</th>\n",
              "      <td>-0.877457</td>\n",
              "      <td>0</td>\n",
              "      <td>0</td>\n",
              "      <td>0</td>\n",
              "      <td>False</td>\n",
              "      <td>False</td>\n",
              "      <td>False</td>\n",
              "      <td>True</td>\n",
              "      <td>False</td>\n",
              "      <td>False</td>\n",
              "      <td>False</td>\n",
              "      <td>False</td>\n",
              "    </tr>\n",
              "    <tr>\n",
              "      <th>51264</th>\n",
              "      <td>-0.877607</td>\n",
              "      <td>0</td>\n",
              "      <td>0</td>\n",
              "      <td>0</td>\n",
              "      <td>False</td>\n",
              "      <td>False</td>\n",
              "      <td>False</td>\n",
              "      <td>True</td>\n",
              "      <td>False</td>\n",
              "      <td>False</td>\n",
              "      <td>False</td>\n",
              "      <td>False</td>\n",
              "    </tr>\n",
              "    <tr>\n",
              "      <th>17533</th>\n",
              "      <td>1.077352</td>\n",
              "      <td>0</td>\n",
              "      <td>0</td>\n",
              "      <td>1</td>\n",
              "      <td>False</td>\n",
              "      <td>False</td>\n",
              "      <td>True</td>\n",
              "      <td>False</td>\n",
              "      <td>False</td>\n",
              "      <td>False</td>\n",
              "      <td>False</td>\n",
              "      <td>False</td>\n",
              "    </tr>\n",
              "    <tr>\n",
              "      <th>24821</th>\n",
              "      <td>1.297917</td>\n",
              "      <td>0</td>\n",
              "      <td>0</td>\n",
              "      <td>1</td>\n",
              "      <td>False</td>\n",
              "      <td>False</td>\n",
              "      <td>False</td>\n",
              "      <td>False</td>\n",
              "      <td>False</td>\n",
              "      <td>True</td>\n",
              "      <td>False</td>\n",
              "      <td>False</td>\n",
              "    </tr>\n",
              "    <tr>\n",
              "      <th>39913</th>\n",
              "      <td>-0.877495</td>\n",
              "      <td>0</td>\n",
              "      <td>0</td>\n",
              "      <td>0</td>\n",
              "      <td>False</td>\n",
              "      <td>False</td>\n",
              "      <td>False</td>\n",
              "      <td>True</td>\n",
              "      <td>False</td>\n",
              "      <td>False</td>\n",
              "      <td>False</td>\n",
              "      <td>False</td>\n",
              "    </tr>\n",
              "    <tr>\n",
              "      <th>22724</th>\n",
              "      <td>1.175223</td>\n",
              "      <td>0</td>\n",
              "      <td>0</td>\n",
              "      <td>1</td>\n",
              "      <td>False</td>\n",
              "      <td>False</td>\n",
              "      <td>False</td>\n",
              "      <td>False</td>\n",
              "      <td>True</td>\n",
              "      <td>False</td>\n",
              "      <td>False</td>\n",
              "      <td>False</td>\n",
              "    </tr>\n",
              "  </tbody>\n",
              "</table>\n",
              "</div>"
            ],
            "text/plain": [
              "             ts  door_state  sphone_signal  label  type_backdoor  type_ddos   \n",
              "763    1.098480           0              0      1          False       True  \\\n",
              "5161   1.360948           0              0      1           True      False   \n",
              "29541  1.222570           0              0      1          False      False   \n",
              "51619 -0.877601           0              0      0          False      False   \n",
              "43023 -0.877457           0              0      0          False      False   \n",
              "51264 -0.877607           0              0      0          False      False   \n",
              "17533  1.077352           0              0      1          False      False   \n",
              "24821  1.297917           0              0      1          False      False   \n",
              "39913 -0.877495           0              0      0          False      False   \n",
              "22724  1.175223           0              0      1          False      False   \n",
              "\n",
              "       type_injection  type_normal  type_password  type_ransomware   \n",
              "763             False        False          False            False  \\\n",
              "5161            False        False          False            False   \n",
              "29541           False        False          False            False   \n",
              "51619           False         True          False            False   \n",
              "43023           False         True          False            False   \n",
              "51264           False         True          False            False   \n",
              "17533            True        False          False            False   \n",
              "24821           False        False          False             True   \n",
              "39913           False         True          False            False   \n",
              "22724           False        False           True            False   \n",
              "\n",
              "       type_scanning  type_xss  \n",
              "763            False     False  \n",
              "5161           False     False  \n",
              "29541          False      True  \n",
              "51619          False     False  \n",
              "43023          False     False  \n",
              "51264          False     False  \n",
              "17533          False     False  \n",
              "24821          False     False  \n",
              "39913          False     False  \n",
              "22724          False     False  "
            ]
          },
          "execution_count": 8,
          "metadata": {},
          "output_type": "execute_result"
        }
      ],
      "source": [
        "data.head(10)"
      ]
    },
    {
      "attachments": {},
      "cell_type": "markdown",
      "metadata": {
        "id": "SWYsmGfRoOGp"
      },
      "source": [
        "## KNN建置"
      ]
    },
    {
      "cell_type": "code",
      "execution_count": 9,
      "metadata": {
        "id": "8gLN6HYM1XCE"
      },
      "outputs": [],
      "source": [
        "knnModel = KNeighborsClassifier(n_neighbors=3)\n",
        "knnModel.fit(X_train,Y_train)\n",
        "predicted= knnModel.predict(X_train)"
      ]
    },
    {
      "attachments": {},
      "cell_type": "markdown",
      "metadata": {
        "id": "DP-iHQzooFsX"
      },
      "source": [
        "## 預測成功的比例"
      ]
    },
    {
      "cell_type": "code",
      "execution_count": 10,
      "metadata": {
        "colab": {
          "base_uri": "https://localhost:8080/",
          "height": 364
        },
        "id": "lVsF4mUq1XCJ",
        "outputId": "11a1c0a3-7b16-4f82-aeaa-13d786b7f9e7"
      },
      "outputs": [
        {
          "name": "stdout",
          "output_type": "stream",
          "text": [
            "訓練集:  1.0\n",
            "測試集:  1.0\n"
          ]
        }
      ],
      "source": [
        "print('訓練集: ',knnModel.score(X_train,Y_train))\n",
        "print('測試集: ',knnModel.score(X_test,Y_test))"
      ]
    },
    {
      "attachments": {},
      "cell_type": "markdown",
      "metadata": {
        "id": "Ei4Hdyg2n12S"
      },
      "source": [
        "## KFold驗證 當neighbor=3"
      ]
    },
    {
      "cell_type": "code",
      "execution_count": null,
      "metadata": {
        "colab": {
          "base_uri": "https://localhost:8080/"
        },
        "id": "f41wMkhKnx9n",
        "outputId": "9b534ca3-054f-486d-b988-4ec3f99a2e04"
      },
      "outputs": [
        {
          "name": "stdout",
          "output_type": "stream",
          "text": [
            "[1. 1. 1. 1. 1. 1. 1. 1. 1. 1.]\n",
            "100.0 %\n"
          ]
        }
      ],
      "source": [
        "accuracy = cross_val_score(knnModel, X_test, Y_test, cv=10, scoring=\"accuracy\")\n",
        "print(accuracy)\n",
        "print(accuracy.mean()*100,'%')"
      ]
    },
    {
      "attachments": {},
      "cell_type": "markdown",
      "metadata": {
        "id": "Ic14-7fMn94P"
      },
      "source": [
        "## 輸出混淆矩陣"
      ]
    },
    {
      "cell_type": "code",
      "execution_count": 13,
      "metadata": {
        "colab": {
          "base_uri": "https://localhost:8080/"
        },
        "id": "tGIJ3Aqc3HNe",
        "outputId": "7003b369-dcc5-4c56-b3c2-2df688caa6ae"
      },
      "outputs": [
        {
          "name": "stdout",
          "output_type": "stream",
          "text": [
            "[[ 5000     0     0     0     0     0     0     0]\n",
            " [    0  5000     0     0     0     0     0     0]\n",
            " [    0     0  5000     0     0     0     0     0]\n",
            " [    0     0     0 35000     0     0     0     0]\n",
            " [    0     0     0     0  5000     0     0     0]\n",
            " [    0     0     0     0     0  2902     0     0]\n",
            " [    0     0     0     0     0     0   529     0]\n",
            " [    0     0     0     0     0     0     0  1156]]\n"
          ]
        }
      ],
      "source": [
        "Y_pred = predicted\n",
        "\n",
        "Y_pred = np.argmax(Y_pred, axis=1).astype(int)\n",
        "Y_test_2 = np.argmax(Y_test, axis=1).astype(int)\n",
        "\n",
        "\n",
        "from sklearn.metrics import multilabel_confusion_matrix\n",
        "\n",
        "#row=Y_test_2 col=Y_pred\n",
        "cm=confusion_matrix(Y_test_2,Y_pred)\n",
        "print(cm)"
      ]
    },
    {
      "attachments": {},
      "cell_type": "markdown",
      "metadata": {
        "id": "3PqBI2omoBRo"
      },
      "source": [
        "## 繪製熱力圖"
      ]
    },
    {
      "cell_type": "code",
      "execution_count": 12,
      "metadata": {
        "colab": {
          "base_uri": "https://localhost:8080/",
          "height": 710
        },
        "id": "7mZbDpil3WK5",
        "outputId": "9ea9709c-682e-4bd6-94ee-d740dc149d7e"
      },
      "outputs": [
        {
          "data": {
            "image/png": "[encoded data removed]",
            "text/plain": [
              "<Figure size 1500x800 with 1 Axes>"
            ]
          },
          "metadata": {},
          "output_type": "display_data"
        }
      ],
      "source": [
        "import seaborn as sns\n",
        "import matplotlib.pyplot as plt\n",
        "plt.figure(figsize=(15,8))\n",
        "sns.heatmap(cm,square=True,annot=True,fmt='d',linecolor='white',cmap='RdBu',linewidths=1.5,cbar=False)\n",
        "plt.xlabel('Pred',fontsize=20)\n",
        "plt.ylabel('True',fontsize=20)\n",
        "plt.show()"
      ]
    },
    {
      "attachments": {},
      "cell_type": "markdown",
      "metadata": {
        "id": "YWdeyJ4Tt6jA"
      },
      "source": [
        "## KNN最佳值"
      ]
    },
    {
      "cell_type": "code",
      "execution_count": null,
      "metadata": {
        "colab": {
          "base_uri": "https://localhost:8080/",
          "height": 465
        },
        "id": "ZqCv69SSo6NC",
        "outputId": "144c2ad5-7e1f-4d4f-fb49-23661a01cffd"
      },
      "outputs": [
        {
          "data": {
            "image/png": "[encoded data removed]",
            "text/plain": [
              "<Figure size 640x480 with 1 Axes>"
            ]
          },
          "metadata": {},
          "output_type": "display_data"
        }
      ],
      "source": [
        "k_range = range(1,21)\n",
        "k_scores = []\n",
        "for k_number in k_range:\n",
        "    knn = KNeighborsClassifier(n_neighbors=k_number)\n",
        "    scores = cross_val_score(knn,X_train,Y_train,cv=10,scoring='accuracy')\n",
        "    k_scores.append(scores.mean())\n",
        "\n",
        "plt.plot(k_range,k_scores)\n",
        "plt.xlabel('Value of K for KNN')\n",
        "plt.ylabel('Cross-Validated Accuracy')\n",
        "plt.show()"
      ]
    }
  ],
  "metadata": {
    "colab": {
      "provenance": []
    },
    "kernelspec": {
      "display_name": "Python 3",
      "language": "python",
      "name": "python3"
    },
    "language_info": {
      "codemirror_mode": {
        "name": "ipython",
        "version": 3
      },
      "file_extension": ".py",
      "mimetype": "text/x-python",
      "name": "python",
      "nbconvert_exporter": "python",
      "pygments_lexer": "ipython3",
      "version": "3.10.7"
    },
    "orig_nbformat": 4
  },
  "nbformat": 4,
  "nbformat_minor": 0
}
