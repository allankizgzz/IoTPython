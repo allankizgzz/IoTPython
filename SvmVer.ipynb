{
 "cells": [
  {
   "cell_type": "code",
   "execution_count": 6,
   "metadata": {},
   "outputs": [],
   "source": [
    "import pandas as pd\n",
    "import numpy as np\n",
    "import random\n",
    "import matplotlib.pyplot as plt\n",
    "from datetime import datetime\n",
    "from sklearn import svm\n",
    "from sklearn.preprocessing import StandardScaler\n",
    "from sklearn.preprocessing import LabelEncoder,OneHotEncoder\n",
    "from sklearn.neighbors import KNeighborsClassifier\n",
    "from sklearn.model_selection import cross_val_score\n",
    "from sklearn.metrics import accuracy_score, precision_score, recall_score, f1_score, confusion_matrix\n",
    "from sklearn.utils import shuffle\n",
    "\n"
   ]
  },
  {
   "cell_type": "code",
   "execution_count": 7,
   "metadata": {},
   "outputs": [
    {
     "name": "stdout",
     "output_type": "stream",
     "text": [
      "             ts  door_state  sphone_signal  label  type\n",
      "15182  1.109592           0              0      1     1\n",
      "12222  1.101295           0              0      1     1\n",
      "23987  1.189439           0              0      1     4\n",
      "41745 -0.877473           0              0      0     3\n",
      "51903 -0.877596           1              1      0     3\n",
      "...         ...         ...            ...    ...   ...\n",
      "56741 -0.790124           0              0      0     3\n",
      "18290  1.078073           0              0      1     2\n",
      "21279 -0.748302           0              0      0     3\n",
      "6548   1.100125           0              0      1     1\n",
      "47173 -0.877718           0              0      0     3\n",
      "\n",
      "[59587 rows x 5 columns]\n"
     ]
    }
   ],
   "source": [
    "data = pd.read_csv(\"/Users/king/GitHub/IoT_ver/SVMdata.csv\")\n",
    "for i in range(10):\n",
    "    data = shuffle(data)\n",
    "#拿出資料90%當作訓練集\n",
    "par = np.random.rand(len(data)) < 0.9\n",
    "data_train = data[par]\n",
    "#剩下的當作test集\n",
    "data_test = data[~par]\n",
    "\n",
    "train_data = data.values\n",
    "test_data = data.values\n",
    "#前4列的資料進行訓練\n",
    "X_train = train_data[:,0:4]\n",
    "X_train=X_train.astype(float)\n",
    "#第5列之後為目標變量\n",
    "Y_train = train_data[:,4:]\n",
    "Y_train= Y_train.astype(float)\n",
    "#前4列為測試集\n",
    "X_test = test_data[:,0:4]\n",
    "X_test=X_test.astype(float)\n",
    "#第5列之後為訓練目標變量\n",
    "Y_test = test_data[:,4:].flatten() \n",
    "Y_test=Y_test.astype(float)\n",
    "print(data)\n"
   ]
  },
  {
   "cell_type": "code",
   "execution_count": 78,
   "metadata": {},
   "outputs": [
    {
     "data": {
      "text/html": [
       "<div>\n",
       "<style scoped>\n",
       "    .dataframe tbody tr th:only-of-type {\n",
       "        vertical-align: middle;\n",
       "    }\n",
       "\n",
       "    .dataframe tbody tr th {\n",
       "        vertical-align: top;\n",
       "    }\n",
       "\n",
       "    .dataframe thead th {\n",
       "        text-align: right;\n",
       "    }\n",
       "</style>\n",
       "<table border=\"1\" class=\"dataframe\">\n",
       "  <thead>\n",
       "    <tr style=\"text-align: right;\">\n",
       "      <th></th>\n",
       "      <th>ts</th>\n",
       "      <th>door_state</th>\n",
       "      <th>sphone_signal</th>\n",
       "      <th>label</th>\n",
       "      <th>type</th>\n",
       "    </tr>\n",
       "  </thead>\n",
       "  <tbody>\n",
       "    <tr>\n",
       "      <th>0</th>\n",
       "      <td>1.096115</td>\n",
       "      <td>0</td>\n",
       "      <td>0</td>\n",
       "      <td>1</td>\n",
       "      <td>1</td>\n",
       "    </tr>\n",
       "    <tr>\n",
       "      <th>1</th>\n",
       "      <td>1.096120</td>\n",
       "      <td>0</td>\n",
       "      <td>0</td>\n",
       "      <td>1</td>\n",
       "      <td>1</td>\n",
       "    </tr>\n",
       "    <tr>\n",
       "      <th>2</th>\n",
       "      <td>1.096124</td>\n",
       "      <td>0</td>\n",
       "      <td>0</td>\n",
       "      <td>1</td>\n",
       "      <td>1</td>\n",
       "    </tr>\n",
       "    <tr>\n",
       "      <th>3</th>\n",
       "      <td>1.096129</td>\n",
       "      <td>0</td>\n",
       "      <td>0</td>\n",
       "      <td>1</td>\n",
       "      <td>1</td>\n",
       "    </tr>\n",
       "    <tr>\n",
       "      <th>4</th>\n",
       "      <td>1.096138</td>\n",
       "      <td>0</td>\n",
       "      <td>0</td>\n",
       "      <td>1</td>\n",
       "      <td>1</td>\n",
       "    </tr>\n",
       "    <tr>\n",
       "      <th>5</th>\n",
       "      <td>1.096142</td>\n",
       "      <td>0</td>\n",
       "      <td>0</td>\n",
       "      <td>1</td>\n",
       "      <td>1</td>\n",
       "    </tr>\n",
       "    <tr>\n",
       "      <th>6</th>\n",
       "      <td>1.096147</td>\n",
       "      <td>0</td>\n",
       "      <td>0</td>\n",
       "      <td>1</td>\n",
       "      <td>1</td>\n",
       "    </tr>\n",
       "    <tr>\n",
       "      <th>7</th>\n",
       "      <td>1.096152</td>\n",
       "      <td>1</td>\n",
       "      <td>1</td>\n",
       "      <td>1</td>\n",
       "      <td>1</td>\n",
       "    </tr>\n",
       "    <tr>\n",
       "      <th>8</th>\n",
       "      <td>1.096156</td>\n",
       "      <td>0</td>\n",
       "      <td>0</td>\n",
       "      <td>1</td>\n",
       "      <td>1</td>\n",
       "    </tr>\n",
       "    <tr>\n",
       "      <th>9</th>\n",
       "      <td>1.096161</td>\n",
       "      <td>0</td>\n",
       "      <td>0</td>\n",
       "      <td>1</td>\n",
       "      <td>1</td>\n",
       "    </tr>\n",
       "  </tbody>\n",
       "</table>\n",
       "</div>"
      ],
      "text/plain": [
       "         ts  door_state  sphone_signal  label  type\n",
       "0  1.096115           0              0      1     1\n",
       "1  1.096120           0              0      1     1\n",
       "2  1.096124           0              0      1     1\n",
       "3  1.096129           0              0      1     1\n",
       "4  1.096138           0              0      1     1\n",
       "5  1.096142           0              0      1     1\n",
       "6  1.096147           0              0      1     1\n",
       "7  1.096152           1              1      1     1\n",
       "8  1.096156           0              0      1     1\n",
       "9  1.096161           0              0      1     1"
      ]
     },
     "execution_count": 78,
     "metadata": {},
     "output_type": "execute_result"
    }
   ],
   "source": [
    "data.head(10)"
   ]
  },
  {
   "cell_type": "code",
   "execution_count": 8,
   "metadata": {},
   "outputs": [
    {
     "name": "stderr",
     "output_type": "stream",
     "text": [
      "/Users/king/Library/Python/3.9/lib/python/site-packages/sklearn/utils/validation.py:1143: DataConversionWarning: A column-vector y was passed when a 1d array was expected. Please change the shape of y to (n_samples, ), for example using ravel().\n",
      "  y = column_or_1d(y, warn=True)\n"
     ]
    },
    {
     "data": {
      "text/html": [
       "<style>#sk-container-id-1 {color: black;background-color: white;}#sk-container-id-1 pre{padding: 0;}#sk-container-id-1 div.sk-toggleable {background-color: white;}#sk-container-id-1 label.sk-toggleable__label {cursor: pointer;display: block;width: 100%;margin-bottom: 0;padding: 0.3em;box-sizing: border-box;text-align: center;}#sk-container-id-1 label.sk-toggleable__label-arrow:before {content: \"▸\";float: left;margin-right: 0.25em;color: #696969;}#sk-container-id-1 label.sk-toggleable__label-arrow:hover:before {color: black;}#sk-container-id-1 div.sk-estimator:hover label.sk-toggleable__label-arrow:before {color: black;}#sk-container-id-1 div.sk-toggleable__content {max-height: 0;max-width: 0;overflow: hidden;text-align: left;background-color: #f0f8ff;}#sk-container-id-1 div.sk-toggleable__content pre {margin: 0.2em;color: black;border-radius: 0.25em;background-color: #f0f8ff;}#sk-container-id-1 input.sk-toggleable__control:checked~div.sk-toggleable__content {max-height: 200px;max-width: 100%;overflow: auto;}#sk-container-id-1 input.sk-toggleable__control:checked~label.sk-toggleable__label-arrow:before {content: \"▾\";}#sk-container-id-1 div.sk-estimator input.sk-toggleable__control:checked~label.sk-toggleable__label {background-color: #d4ebff;}#sk-container-id-1 div.sk-label input.sk-toggleable__control:checked~label.sk-toggleable__label {background-color: #d4ebff;}#sk-container-id-1 input.sk-hidden--visually {border: 0;clip: rect(1px 1px 1px 1px);clip: rect(1px, 1px, 1px, 1px);height: 1px;margin: -1px;overflow: hidden;padding: 0;position: absolute;width: 1px;}#sk-container-id-1 div.sk-estimator {font-family: monospace;background-color: #f0f8ff;border: 1px dotted black;border-radius: 0.25em;box-sizing: border-box;margin-bottom: 0.5em;}#sk-container-id-1 div.sk-estimator:hover {background-color: #d4ebff;}#sk-container-id-1 div.sk-parallel-item::after {content: \"\";width: 100%;border-bottom: 1px solid gray;flex-grow: 1;}#sk-container-id-1 div.sk-label:hover label.sk-toggleable__label {background-color: #d4ebff;}#sk-container-id-1 div.sk-serial::before {content: \"\";position: absolute;border-left: 1px solid gray;box-sizing: border-box;top: 0;bottom: 0;left: 50%;z-index: 0;}#sk-container-id-1 div.sk-serial {display: flex;flex-direction: column;align-items: center;background-color: white;padding-right: 0.2em;padding-left: 0.2em;position: relative;}#sk-container-id-1 div.sk-item {position: relative;z-index: 1;}#sk-container-id-1 div.sk-parallel {display: flex;align-items: stretch;justify-content: center;background-color: white;position: relative;}#sk-container-id-1 div.sk-item::before, #sk-container-id-1 div.sk-parallel-item::before {content: \"\";position: absolute;border-left: 1px solid gray;box-sizing: border-box;top: 0;bottom: 0;left: 50%;z-index: -1;}#sk-container-id-1 div.sk-parallel-item {display: flex;flex-direction: column;z-index: 1;position: relative;background-color: white;}#sk-container-id-1 div.sk-parallel-item:first-child::after {align-self: flex-end;width: 50%;}#sk-container-id-1 div.sk-parallel-item:last-child::after {align-self: flex-start;width: 50%;}#sk-container-id-1 div.sk-parallel-item:only-child::after {width: 0;}#sk-container-id-1 div.sk-dashed-wrapped {border: 1px dashed gray;margin: 0 0.4em 0.5em 0.4em;box-sizing: border-box;padding-bottom: 0.4em;background-color: white;}#sk-container-id-1 div.sk-label label {font-family: monospace;font-weight: bold;display: inline-block;line-height: 1.2em;}#sk-container-id-1 div.sk-label-container {text-align: center;}#sk-container-id-1 div.sk-container {/* jupyter's `normalize.less` sets `[hidden] { display: none; }` but bootstrap.min.css set `[hidden] { display: none !important; }` so we also need the `!important` here to be able to override the default hidden behavior on the sphinx rendered scikit-learn.org. See: https://github.com/scikit-learn/scikit-learn/issues/21755 */display: inline-block !important;position: relative;}#sk-container-id-1 div.sk-text-repr-fallback {display: none;}</style><div id=\"sk-container-id-1\" class=\"sk-top-container\"><div class=\"sk-text-repr-fallback\"><pre>SVC(C=1, gamma=0.7)</pre><b>In a Jupyter environment, please rerun this cell to show the HTML representation or trust the notebook. <br />On GitHub, the HTML representation is unable to render, please try loading this page with nbviewer.org.</b></div><div class=\"sk-container\" hidden><div class=\"sk-item\"><div class=\"sk-estimator sk-toggleable\"><input class=\"sk-toggleable__control sk-hidden--visually\" id=\"sk-estimator-id-1\" type=\"checkbox\" checked><label for=\"sk-estimator-id-1\" class=\"sk-toggleable__label sk-toggleable__label-arrow\">SVC</label><div class=\"sk-toggleable__content\"><pre>SVC(C=1, gamma=0.7)</pre></div></div></div></div></div>"
      ],
      "text/plain": [
       "SVC(C=1, gamma=0.7)"
      ]
     },
     "execution_count": 8,
     "metadata": {},
     "output_type": "execute_result"
    }
   ],
   "source": [
    "rbfmodel=svm.SVC(kernel='rbf',gamma=0.7,C=1)\n",
    "rbfmodel.fit(X_train,Y_train)"
   ]
  },
  {
   "cell_type": "code",
   "execution_count": 9,
   "metadata": {},
   "outputs": [
    {
     "name": "stdout",
     "output_type": "stream",
     "text": [
      "Confusion Matrix:\n",
      "[[ 5000     0     0     0     0     0     0     0]\n",
      " [    0  5000     0     0     0     0     0     0]\n",
      " [    0     0  5000     0     0     0     0     0]\n",
      " [    0     0     0 35000     0     0     0     0]\n",
      " [    0     0     0     0  5000     0     0     0]\n",
      " [    0     0     0     0     0  2902     0     0]\n",
      " [    0     0     0     0     0     0   529     0]\n",
      " [    0     0     0     0     0     0     0  1156]]\n",
      "F1 Score: 1.0\n",
      "Recall: 1.0\n",
      "Precision: 1.0\n"
     ]
    }
   ],
   "source": [
    "#混淆矩陣（Confusion Matrix）：展示模型預測結果的分類情況。以矩陣形式表示，包含真實類別和預測類別之間的對應關係。\n",
    "confusion_mat = confusion_matrix(Y_train, Y_test)\n",
    "print(\"Confusion Matrix:\")\n",
    "print(confusion_mat)\n",
    "#F1 分數（F1 Score）：精確率和召回率的調和平均值，綜合考慮了模型的準確性和完整性。\n",
    "f1 = f1_score(Y_train, Y_test,average='weighted')\n",
    "print(\"F1 Score:\", f1)\n",
    "#召回率（Recall）：模型對於實際正例的預測能力。即預測為正例且與實際結果相符的比例。\n",
    "recall = recall_score(Y_train, Y_test,average='weighted')\n",
    "print(\"Recall:\", recall)\n",
    "#精確率（Precision）：模型對於正例的預測準確率。即預測為正例且與實際結果相符的比例。\n",
    "precision = precision_score(Y_train, Y_test,average='weighted')\n",
    "print(\"Precision:\", precision)\n"
   ]
  },
  {
   "cell_type": "code",
   "execution_count": 10,
   "metadata": {},
   "outputs": [
    {
     "name": "stdout",
     "output_type": "stream",
     "text": [
      "測試資料集的準確度 = 0.9926\n"
     ]
    }
   ],
   "source": [
    "accuracy = rbfmodel.score(X_test, Y_test)\n",
    "print(\"測試資料集的準確度 = {:.4f}\".format(accuracy))"
   ]
  },
  {
   "cell_type": "code",
   "execution_count": 11,
   "metadata": {},
   "outputs": [
    {
     "name": "stdout",
     "output_type": "stream",
     "text": [
      "[0.99228058 0.99026682 0.99211277 0.99160933 0.99446216 0.99647592\n",
      " 0.9912737  0.99295065 0.98992951 0.99211145]\n",
      "99.23472896728968 %\n"
     ]
    }
   ],
   "source": [
    "#knn_model = KNeighborsClassifier(n_neighbors = 10, weights='uniform', algorithm='auto', leaf_size=30, p=2, metric='minkowski', metric_params=None, n_jobs=1)\n",
    "accuracy = cross_val_score(rbfmodel, X_test, Y_test, cv=10, scoring=\"accuracy\")\n",
    "print(accuracy)\n",
    "print(accuracy.mean()*100,'%')"
   ]
  },
  {
   "cell_type": "code",
   "execution_count": null,
   "metadata": {},
   "outputs": [],
   "source": [
    "\n",
    "# # 創建不同的 C 值範圍\n",
    "# C_values = np.arange(1, 10, 1)\n",
    "# accuracies = []\n",
    "# errors = []\n",
    "\n",
    "# # 進行交叉驗證，計算每個 C 值對應的正確率和錯誤率\n",
    "# for C in C_values:\n",
    "#     rbfmodel = svm.SVC(kernel='rbf', gamma=0.7, C=10)\n",
    "#     scores = cross_val_score(rbfmodel, X_test, Y_test, cv=5)\n",
    "#     accuracy = np.mean(scores)\n",
    "#     error = 1 - accuracy\n",
    "#     accuracies.append(accuracy)\n",
    "#     errors.append(error)\n",
    "\n",
    "# # 繪製正確率和錯誤率曲線\n",
    "# plt.plot(C_values, accuracies, label='arruracy')\n",
    "# plt.plot(C_values, errors, label='loss')\n",
    "# plt.xlabel('C ')\n",
    "# plt.ylabel('arruracy / loss')\n",
    "# plt.title('SVM arruracy and loss')\n",
    "# plt.legend()\n",
    "# plt.show()"
   ]
  }
 ],
 "metadata": {
  "kernelspec": {
   "display_name": "Python 3",
   "language": "python",
   "name": "python3"
  },
  "language_info": {
   "codemirror_mode": {
    "name": "ipython",
    "version": 3
   },
   "file_extension": ".py",
   "mimetype": "text/x-python",
   "name": "python",
   "nbconvert_exporter": "python",
   "pygments_lexer": "ipython3",
   "version": "3.9.6"
  },
  "orig_nbformat": 4
 },
 "nbformat": 4,
 "nbformat_minor": 2
}
