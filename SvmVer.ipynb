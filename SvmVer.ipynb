{
  "cells": [
    {
      "cell_type": "code",
      "execution_count": null,
      "metadata": {
        "id": "8rx0NyBuotZF"
      },
      "outputs": [],
      "source": [
        "import pandas as pd\n",
        "import numpy as np\n",
        "import random\n",
        "import matplotlib.pyplot as plt\n",
        "from datetime import datetime\n",
        "from sklearn import svm\n",
        "from sklearn.preprocessing import StandardScaler\n",
        "from sklearn.preprocessing import LabelEncoder,OneHotEncoder\n",
        "from sklearn.neighbors import KNeighborsClassifier\n",
        "from sklearn.model_selection import cross_val_score\n",
        "from sklearn.metrics import accuracy_score, precision_score, recall_score, f1_score, confusion_matrix\n",
        "from sklearn.utils import shuffle\n",
        "\n"
      ]
    },
    {
      "cell_type": "code",
      "source": [
        "from google.colab import drive\n",
        "drive.mount('/content/drive')"
      ],
      "metadata": {
        "colab": {
          "base_uri": "https://localhost:8080/"
        },
        "id": "sfEphZKN3MZF",
        "outputId": "2768635c-f0f7-4fed-aed8-59242cc50135"
      },
      "execution_count": null,
      "outputs": [
        {
          "output_type": "stream",
          "name": "stdout",
          "text": [
            "Mounted at /content/drive\n"
          ]
        }
      ]
    },
    {
      "cell_type": "markdown",
      "source": [
        "## 預處理"
      ],
      "metadata": {
        "id": "20iy071c5kl4"
      }
    },
    {
      "cell_type": "code",
      "execution_count": null,
      "metadata": {
        "colab": {
          "base_uri": "https://localhost:8080/"
        },
        "id": "GHG13r_gotZI",
        "outputId": "25c3678c-a284-4058-d7ac-dfa94e15e7c2"
      },
      "outputs": [
        {
          "output_type": "stream",
          "name": "stdout",
          "text": [
            "             ts  door_state  sphone_signal  label  type\n",
            "35295 -0.877427           0              0      0     3\n",
            "50733 -0.877618           0              0      0     3\n",
            "43767 -0.877422           0              0      0     3\n",
            "769    1.098494           0              0      1     1\n",
            "57852 -0.748196           0              0      0     3\n",
            "...         ...         ...            ...    ...   ...\n",
            "7986   1.079504           0              0      1     2\n",
            "2465   1.339487           0              0      1     0\n",
            "6059   1.096937           0              0      1     1\n",
            "20548 -0.748369           0              0      0     3\n",
            "45600 -0.877403           0              0      0     3\n",
            "\n",
            "[59587 rows x 5 columns]\n"
          ]
        }
      ],
      "source": [
        "data = pd.read_csv(\"/content/drive/My Drive/dataset/SVMdata.csv\")\n",
        "for i in range(10):\n",
        "    data = shuffle(data)\n",
        "#拿出資料90%當作訓練集\n",
        "par = np.random.rand(len(data)) < 0.9\n",
        "data_train = data[par]\n",
        "#剩下的當作test集\n",
        "data_test = data[~par]\n",
        "\n",
        "train_data = data.values\n",
        "test_data = data.values\n",
        "#前4列的資料進行訓練\n",
        "X_train = train_data[:,0:4]\n",
        "X_train=X_train.astype(float)\n",
        "#第5列之後為目標變量\n",
        "Y_train = train_data[:,4:]\n",
        "Y_train= Y_train.astype(float)\n",
        "#前4列為測試集\n",
        "X_test = test_data[:,0:4]\n",
        "X_test=X_test.astype(float)\n",
        "#第5列之後為訓練目標變量\n",
        "Y_test = test_data[:,4:].flatten() \n",
        "Y_test=Y_test.astype(float)\n",
        "print(data)\n"
      ]
    },
    {
      "cell_type": "code",
      "execution_count": null,
      "metadata": {
        "colab": {
          "base_uri": "https://localhost:8080/",
          "height": 363
        },
        "id": "poGecPmEotZK",
        "outputId": "69326e7a-fb08-4f41-f324-ab55bfc0b96f"
      },
      "outputs": [
        {
          "output_type": "execute_result",
          "data": {
            "text/plain": [
              "             ts  door_state  sphone_signal  label  type\n",
              "35295 -0.877427           0              0      0     3\n",
              "50733 -0.877618           0              0      0     3\n",
              "43767 -0.877422           0              0      0     3\n",
              "769    1.098494           0              0      1     1\n",
              "57852 -0.748196           0              0      0     3\n",
              "47306 -0.877713           0              0      0     3\n",
              "25062  1.298251           1              1      1     5\n",
              "27101  1.175146           0              0      1     4\n",
              "47311 -0.877712           0              0      0     3\n",
              "2126   1.338889           0              0      1     0"
            ],
            "text/html": [
              "\n",
              "  <div id=\"df-952a4d7a-0fc1-4e76-b44d-bf27d50e280b\">\n",
              "    <div class=\"colab-df-container\">\n",
              "      <div>\n",
              "<style scoped>\n",
              "    .dataframe tbody tr th:only-of-type {\n",
              "        vertical-align: middle;\n",
              "    }\n",
              "\n",
              "    .dataframe tbody tr th {\n",
              "        vertical-align: top;\n",
              "    }\n",
              "\n",
              "    .dataframe thead th {\n",
              "        text-align: right;\n",
              "    }\n",
              "</style>\n",
              "<table border=\"1\" class=\"dataframe\">\n",
              "  <thead>\n",
              "    <tr style=\"text-align: right;\">\n",
              "      <th></th>\n",
              "      <th>ts</th>\n",
              "      <th>door_state</th>\n",
              "      <th>sphone_signal</th>\n",
              "      <th>label</th>\n",
              "      <th>type</th>\n",
              "    </tr>\n",
              "  </thead>\n",
              "  <tbody>\n",
              "    <tr>\n",
              "      <th>35295</th>\n",
              "      <td>-0.877427</td>\n",
              "      <td>0</td>\n",
              "      <td>0</td>\n",
              "      <td>0</td>\n",
              "      <td>3</td>\n",
              "    </tr>\n",
              "    <tr>\n",
              "      <th>50733</th>\n",
              "      <td>-0.877618</td>\n",
              "      <td>0</td>\n",
              "      <td>0</td>\n",
              "      <td>0</td>\n",
              "      <td>3</td>\n",
              "    </tr>\n",
              "    <tr>\n",
              "      <th>43767</th>\n",
              "      <td>-0.877422</td>\n",
              "      <td>0</td>\n",
              "      <td>0</td>\n",
              "      <td>0</td>\n",
              "      <td>3</td>\n",
              "    </tr>\n",
              "    <tr>\n",
              "      <th>769</th>\n",
              "      <td>1.098494</td>\n",
              "      <td>0</td>\n",
              "      <td>0</td>\n",
              "      <td>1</td>\n",
              "      <td>1</td>\n",
              "    </tr>\n",
              "    <tr>\n",
              "      <th>57852</th>\n",
              "      <td>-0.748196</td>\n",
              "      <td>0</td>\n",
              "      <td>0</td>\n",
              "      <td>0</td>\n",
              "      <td>3</td>\n",
              "    </tr>\n",
              "    <tr>\n",
              "      <th>47306</th>\n",
              "      <td>-0.877713</td>\n",
              "      <td>0</td>\n",
              "      <td>0</td>\n",
              "      <td>0</td>\n",
              "      <td>3</td>\n",
              "    </tr>\n",
              "    <tr>\n",
              "      <th>25062</th>\n",
              "      <td>1.298251</td>\n",
              "      <td>1</td>\n",
              "      <td>1</td>\n",
              "      <td>1</td>\n",
              "      <td>5</td>\n",
              "    </tr>\n",
              "    <tr>\n",
              "      <th>27101</th>\n",
              "      <td>1.175146</td>\n",
              "      <td>0</td>\n",
              "      <td>0</td>\n",
              "      <td>1</td>\n",
              "      <td>4</td>\n",
              "    </tr>\n",
              "    <tr>\n",
              "      <th>47311</th>\n",
              "      <td>-0.877712</td>\n",
              "      <td>0</td>\n",
              "      <td>0</td>\n",
              "      <td>0</td>\n",
              "      <td>3</td>\n",
              "    </tr>\n",
              "    <tr>\n",
              "      <th>2126</th>\n",
              "      <td>1.338889</td>\n",
              "      <td>0</td>\n",
              "      <td>0</td>\n",
              "      <td>1</td>\n",
              "      <td>0</td>\n",
              "    </tr>\n",
              "  </tbody>\n",
              "</table>\n",
              "</div>\n",
              "      <button class=\"colab-df-convert\" onclick=\"convertToInteractive('df-952a4d7a-0fc1-4e76-b44d-bf27d50e280b')\"\n",
              "              title=\"Convert this dataframe to an interactive table.\"\n",
              "              style=\"display:none;\">\n",
              "        \n",
              "  <svg xmlns=\"http://www.w3.org/2000/svg\" height=\"24px\"viewBox=\"0 0 24 24\"\n",
              "       width=\"24px\">\n",
              "    <path d=\"M0 0h24v24H0V0z\" fill=\"none\"/>\n",
              "    <path d=\"M18.56 5.44l.94 2.06.94-2.06 2.06-.94-2.06-.94-.94-2.06-.94 2.06-2.06.94zm-11 1L8.5 8.5l.94-2.06 2.06-.94-2.06-.94L8.5 2.5l-.94 2.06-2.06.94zm10 10l.94 2.06.94-2.06 2.06-.94-2.06-.94-.94-2.06-.94 2.06-2.06.94z\"/><path d=\"M17.41 7.96l-1.37-1.37c-.4-.4-.92-.59-1.43-.59-.52 0-1.04.2-1.43.59L10.3 9.45l-7.72 7.72c-.78.78-.78 2.05 0 2.83L4 21.41c.39.39.9.59 1.41.59.51 0 1.02-.2 1.41-.59l7.78-7.78 2.81-2.81c.8-.78.8-2.07 0-2.86zM5.41 20L4 18.59l7.72-7.72 1.47 1.35L5.41 20z\"/>\n",
              "  </svg>\n",
              "      </button>\n",
              "      \n",
              "  <style>\n",
              "    .colab-df-container {\n",
              "      display:flex;\n",
              "      flex-wrap:wrap;\n",
              "      gap: 12px;\n",
              "    }\n",
              "\n",
              "    .colab-df-convert {\n",
              "      background-color: #E8F0FE;\n",
              "      border: none;\n",
              "      border-radius: 50%;\n",
              "      cursor: pointer;\n",
              "      display: none;\n",
              "      fill: #1967D2;\n",
              "      height: 32px;\n",
              "      padding: 0 0 0 0;\n",
              "      width: 32px;\n",
              "    }\n",
              "\n",
              "    .colab-df-convert:hover {\n",
              "      background-color: #E2EBFA;\n",
              "      box-shadow: 0px 1px 2px rgba(60, 64, 67, 0.3), 0px 1px 3px 1px rgba(60, 64, 67, 0.15);\n",
              "      fill: #174EA6;\n",
              "    }\n",
              "\n",
              "    [theme=dark] .colab-df-convert {\n",
              "      background-color: #3B4455;\n",
              "      fill: #D2E3FC;\n",
              "    }\n",
              "\n",
              "    [theme=dark] .colab-df-convert:hover {\n",
              "      background-color: #434B5C;\n",
              "      box-shadow: 0px 1px 3px 1px rgba(0, 0, 0, 0.15);\n",
              "      filter: drop-shadow(0px 1px 2px rgba(0, 0, 0, 0.3));\n",
              "      fill: #FFFFFF;\n",
              "    }\n",
              "  </style>\n",
              "\n",
              "      <script>\n",
              "        const buttonEl =\n",
              "          document.querySelector('#df-952a4d7a-0fc1-4e76-b44d-bf27d50e280b button.colab-df-convert');\n",
              "        buttonEl.style.display =\n",
              "          google.colab.kernel.accessAllowed ? 'block' : 'none';\n",
              "\n",
              "        async function convertToInteractive(key) {\n",
              "          const element = document.querySelector('#df-952a4d7a-0fc1-4e76-b44d-bf27d50e280b');\n",
              "          const dataTable =\n",
              "            await google.colab.kernel.invokeFunction('convertToInteractive',\n",
              "                                                     [key], {});\n",
              "          if (!dataTable) return;\n",
              "\n",
              "          const docLinkHtml = 'Like what you see? Visit the ' +\n",
              "            '<a target=\"_blank\" href=https://colab.research.google.com/notebooks/data_table.ipynb>data table notebook</a>'\n",
              "            + ' to learn more about interactive tables.';\n",
              "          element.innerHTML = '';\n",
              "          dataTable['output_type'] = 'display_data';\n",
              "          await google.colab.output.renderOutput(dataTable, element);\n",
              "          const docLink = document.createElement('div');\n",
              "          docLink.innerHTML = docLinkHtml;\n",
              "          element.appendChild(docLink);\n",
              "        }\n",
              "      </script>\n",
              "    </div>\n",
              "  </div>\n",
              "  "
            ]
          },
          "metadata": {},
          "execution_count": 9
        }
      ],
      "source": [
        "data.head(10)"
      ]
    },
    {
      "cell_type": "markdown",
      "source": [
        "## Svm RBF建置"
      ],
      "metadata": {
        "id": "LaWV12Eh5Hh3"
      }
    },
    {
      "cell_type": "code",
      "execution_count": null,
      "metadata": {
        "colab": {
          "base_uri": "https://localhost:8080/"
        },
        "id": "lBhU25W2otZL",
        "outputId": "3329e969-a50a-4b15-83eb-9597405600b0"
      },
      "outputs": [
        {
          "output_type": "stream",
          "name": "stderr",
          "text": [
            "/usr/local/lib/python3.10/dist-packages/sklearn/utils/validation.py:1143: DataConversionWarning: A column-vector y was passed when a 1d array was expected. Please change the shape of y to (n_samples, ), for example using ravel().\n",
            "  y = column_or_1d(y, warn=True)\n"
          ]
        }
      ],
      "source": [
        "rbfmodel=svm.SVC(kernel='rbf',gamma=0.7,C=1)\n",
        "rbfmodel.fit(X_train,Y_train)\n",
        "predicted=rbfmodel.predict(X_train)"
      ]
    },
    {
      "cell_type": "markdown",
      "source": [
        "## 測試集的準確度"
      ],
      "metadata": {
        "id": "82P3sZD15OA-"
      }
    },
    {
      "cell_type": "code",
      "execution_count": null,
      "metadata": {
        "colab": {
          "base_uri": "https://localhost:8080/"
        },
        "id": "MxwDKJxGotZN",
        "outputId": "896bbea5-213d-418f-e632-3b5697284919"
      },
      "outputs": [
        {
          "output_type": "stream",
          "name": "stdout",
          "text": [
            "測試資料集的準確度 = 0.9926\n"
          ]
        }
      ],
      "source": [
        "accuracy = rbfmodel.score(X_test, Y_test)\n",
        "print(\"測試資料集的準確度 = {:.4f}\".format(accuracy))"
      ]
    },
    {
      "cell_type": "markdown",
      "source": [
        "## KFold驗證"
      ],
      "metadata": {
        "id": "yLy9zELq5WwB"
      }
    },
    {
      "cell_type": "code",
      "execution_count": null,
      "metadata": {
        "id": "d2EhsUMvotZO"
      },
      "outputs": [],
      "source": [
        "accuracy = cross_val_score(rbfmodel, X_test, Y_test, cv=10, scoring=\"accuracy\")\n",
        "print(accuracy)\n",
        "print(accuracy.mean()*100,'%')"
      ]
    },
    {
      "cell_type": "markdown",
      "source": [
        "## 輸出混淆矩陣"
      ],
      "metadata": {
        "id": "AfrjeQ755cN9"
      }
    },
    {
      "cell_type": "code",
      "source": [
        "Y_pred = predicted\n",
        "\n",
        "from sklearn.metrics import multilabel_confusion_matrix\n",
        "\n",
        "#row=Y_test col=Y_pred\n",
        "cm=confusion_matrix(Y_test,Y_pred)\n",
        "print(cm)"
      ],
      "metadata": {
        "colab": {
          "base_uri": "https://localhost:8080/"
        },
        "id": "z6kYl-pA4JFk",
        "outputId": "0767c95c-7cbc-426c-cb47-5ff1a105ad02"
      },
      "execution_count": null,
      "outputs": [
        {
          "output_type": "stream",
          "name": "stdout",
          "text": [
            "[[ 4945     0     0     0     0    55     0     0]\n",
            " [    0  4716   284     0     0     0     0     0]\n",
            " [    0     0  5000     0     0     0     0     0]\n",
            " [    0     0     0 35000     0     0     0     0]\n",
            " [    0     0     0     0  5000     0     0     0]\n",
            " [    0     0     0     0     0  2902     0     0]\n",
            " [    0     0     0     0     0     0   529     0]\n",
            " [    0     0     0     0   104     0     0  1052]]\n"
          ]
        }
      ]
    },
    {
      "cell_type": "markdown",
      "source": [
        "## 繪製熱力圖"
      ],
      "metadata": {
        "id": "ABfMf3cf5ech"
      }
    },
    {
      "cell_type": "code",
      "source": [
        "import seaborn as sns\n",
        "import matplotlib.pyplot as plt\n",
        "plt.figure(figsize=(15,8))\n",
        "sns.heatmap(cm,square=True,annot=True,fmt='d',linecolor='white',cmap='RdBu',linewidths=1.5,cbar=False)\n",
        "plt.xlabel('Pred',fontsize=20)\n",
        "plt.ylabel('True',fontsize=20)\n",
        "plt.show()"
      ],
      "metadata": {
        "colab": {
          "base_uri": "https://localhost:8080/",
          "height": 710
        },
        "id": "5HDdx1yf3GAe",
        "outputId": "891d476b-0496-4651-e0fa-7e408bb3df2f"
      },
      "execution_count": null,
      "outputs": [
        {
          "output_type": "display_data",
          "data": {
            "text/plain": [
              "<Figure size 1500x800 with 1 Axes>"
            ],
            "image/png": "[encoded data removed]"
          },
          "metadata": {}
        }
      ]
    }
  ],
  "metadata": {
    "kernelspec": {
      "display_name": "Python 3",
      "language": "python",
      "name": "python3"
    },
    "language_info": {
      "codemirror_mode": {
        "name": "ipython",
        "version": 3
      },
      "file_extension": ".py",
      "mimetype": "text/x-python",
      "name": "python",
      "nbconvert_exporter": "python",
      "pygments_lexer": "ipython3",
      "version": "3.9.6"
    },
    "orig_nbformat": 4,
    "colab": {
      "provenance": []
    }
  },
  "nbformat": 4,
  "nbformat_minor": 0
}